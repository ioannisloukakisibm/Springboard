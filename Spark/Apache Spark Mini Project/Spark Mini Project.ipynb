{
 "cells": [
  {
   "cell_type": "code",
   "execution_count": 1,
   "id": "stock-driving",
   "metadata": {},
   "outputs": [],
   "source": [
    "import findspark\n",
    "findspark.init()\n",
    "findspark.find()\n",
    "\n",
    "import pyspark\n",
    "findspark.find()\n",
    "\n",
    "from pyspark import SparkContext, SparkConf\n",
    "from pyspark.sql import SparkSession"
   ]
  },
  {
   "cell_type": "code",
   "execution_count": 2,
   "id": "double-designer",
   "metadata": {},
   "outputs": [],
   "source": [
    "sc = SparkContext(\"local\", \"My Application\")"
   ]
  },
  {
   "cell_type": "code",
   "execution_count": 3,
   "id": "underlying-victor",
   "metadata": {},
   "outputs": [
    {
     "data": {
      "text/plain": [
       "['1,I,VXIO456XLBB630221,Nissan,Altima,2003,2002-05-08,Initial sales from TechMotors',\n",
       " '2,I,INU45KIOOPA343980,Mercedes,C300,2015,2014-01-01,Sold from EuroMotors',\n",
       " '3,A,VXIO456XLBB630221,,,,2014-07-02,Head on collision',\n",
       " '4,R,VXIO456XLBB630221,,,,2014-08-05,Repair transmission',\n",
       " '5,I,VOME254OOXW344325,Mercedes,E350,2015,2014-02-01,Sold from Carmax']"
      ]
     },
     "execution_count": 3,
     "metadata": {},
     "output_type": "execute_result"
    }
   ],
   "source": [
    "raw_rdd = sc.textFile(\"car_data.csv\") #THE FIRST LINE IS HEADERS!!!!!!!!\n",
    "raw_rdd.take(5)"
   ]
  },
  {
   "cell_type": "code",
   "execution_count": 4,
   "id": "expensive-opposition",
   "metadata": {},
   "outputs": [],
   "source": [
    "def extract_vin_key_value(x):\n",
    "    x = list(x.split(\",\"))\n",
    "    key_value = ((x[2]), x[3], x[4], x[1])\n",
    "#     check = tuple(key_value[0])\n",
    "    \n",
    "    return key_value"
   ]
  },
  {
   "cell_type": "code",
   "execution_count": 5,
   "id": "architectural-september",
   "metadata": {},
   "outputs": [
    {
     "data": {
      "text/plain": [
       "[('VXIO456XLBB630221', 'Nissan', 'Altima', 'I'),\n",
       " ('INU45KIOOPA343980', 'Mercedes', 'C300', 'I'),\n",
       " ('VXIO456XLBB630221', '', '', 'A'),\n",
       " ('VXIO456XLBB630221', '', '', 'R'),\n",
       " ('VOME254OOXW344325', 'Mercedes', 'E350', 'I')]"
      ]
     },
     "execution_count": 5,
     "metadata": {},
     "output_type": "execute_result"
    }
   ],
   "source": [
    "# Iterates through each line and applies this function\n",
    "# extract the key and the value\n",
    "vin_kv = raw_rdd.map(lambda x: extract_vin_key_value(x))\n",
    "vin_kv.take(5)"
   ]
  },
  {
   "cell_type": "code",
   "execution_count": 6,
   "id": "otherwise-congo",
   "metadata": {},
   "outputs": [],
   "source": [
    "def populate_make(list_):\n",
    "    \n",
    "    fill = \"\"\n",
    "    \n",
    "    for element in list_:\n",
    "        if element == \"\":\n",
    "            pass\n",
    "        else:\n",
    "            fill = element\n",
    "\n",
    "    for element in list_:\n",
    "            element = fill\n",
    "           \n",
    "    return list_"
   ]
  },
  {
   "cell_type": "code",
   "execution_count": 7,
   "id": "competitive-premises",
   "metadata": {},
   "outputs": [],
   "source": [
    "# Create a dictionary and use it to populate the missing values"
   ]
  },
  {
   "cell_type": "code",
   "execution_count": 11,
   "id": "extensive-marshall",
   "metadata": {},
   "outputs": [
    {
     "ename": "TypeError",
     "evalue": "'PipelinedRDD' object is not subscriptable",
     "output_type": "error",
     "traceback": [
      "\u001b[1;31m---------------------------------------------------------------------------\u001b[0m",
      "\u001b[1;31mTypeError\u001b[0m                                 Traceback (most recent call last)",
      "\u001b[1;32m<ipython-input-11-3c7ccbe943ee>\u001b[0m in \u001b[0;36m<module>\u001b[1;34m\u001b[0m\n\u001b[1;32m----> 1\u001b[1;33m \u001b[0menhance_make\u001b[0m \u001b[1;33m=\u001b[0m \u001b[0mvin_kv\u001b[0m\u001b[1;33m.\u001b[0m\u001b[0mgroupByKey\u001b[0m\u001b[1;33m(\u001b[0m\u001b[0mvin_kv\u001b[0m\u001b[1;33m[\u001b[0m\u001b[1;36m0\u001b[0m\u001b[1;33m]\u001b[0m\u001b[1;33m)\u001b[0m\u001b[1;33m.\u001b[0m\u001b[0mflatMap\u001b[0m\u001b[1;33m(\u001b[0m\u001b[1;32mlambda\u001b[0m \u001b[0mkv\u001b[0m\u001b[1;33m:\u001b[0m \u001b[0mpopulate_make\u001b[0m\u001b[1;33m(\u001b[0m\u001b[0mkv\u001b[0m\u001b[1;33m[\u001b[0m\u001b[1;36m1\u001b[0m\u001b[1;33m]\u001b[0m\u001b[1;33m)\u001b[0m\u001b[1;33m)\u001b[0m\u001b[1;33m\u001b[0m\u001b[1;33m\u001b[0m\u001b[0m\n\u001b[0m",
      "\u001b[1;31mTypeError\u001b[0m: 'PipelinedRDD' object is not subscriptable"
     ]
    }
   ],
   "source": [
    "enhance_make = vin_kv.groupByKey().flatMap(lambda kv: populate_make(kv[1]))"
   ]
  },
  {
   "cell_type": "code",
   "execution_count": 6,
   "id": "mounted-mason",
   "metadata": {},
   "outputs": [],
   "source": [
    "make_kv = enhance_make.map(lambda x: extract_make_key_value(x))"
   ]
  },
  {
   "cell_type": "code",
   "execution_count": 8,
   "id": "tough-repository",
   "metadata": {},
   "outputs": [
    {
     "data": {
      "text/plain": [
       "PythonRDD[7] at RDD at PythonRDD.scala:53"
      ]
     },
     "execution_count": 8,
     "metadata": {},
     "output_type": "execute_result"
    }
   ],
   "source": []
  },
  {
   "cell_type": "code",
   "execution_count": null,
   "id": "verified-bailey",
   "metadata": {},
   "outputs": [],
   "source": []
  }
 ],
 "metadata": {
  "kernelspec": {
   "display_name": "Python 3",
   "language": "python",
   "name": "python3"
  },
  "language_info": {
   "codemirror_mode": {
    "name": "ipython",
    "version": 3
   },
   "file_extension": ".py",
   "mimetype": "text/x-python",
   "name": "python",
   "nbconvert_exporter": "python",
   "pygments_lexer": "ipython3",
   "version": "3.8.8"
  }
 },
 "nbformat": 4,
 "nbformat_minor": 5
}
