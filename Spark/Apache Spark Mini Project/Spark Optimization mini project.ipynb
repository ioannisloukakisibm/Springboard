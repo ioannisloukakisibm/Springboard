{
 "cells": [
  {
   "cell_type": "code",
   "execution_count": 6,
   "id": "experimental-defendant",
   "metadata": {},
   "outputs": [],
   "source": [
    "import findspark\n",
    "findspark.init()\n",
    "findspark.find()\n",
    "\n",
    "import pyspark\n",
    "findspark.find()\n",
    "\n",
    "from pyspark import SparkContext, SparkConf\n",
    "from pyspark.sql import SparkSession\n",
    "\n",
    "from pyspark.sql.functions import col, count, month\n",
    "import os\n",
    "\n",
    "import timeit"
   ]
  },
  {
   "cell_type": "code",
   "execution_count": 22,
   "id": "designing-opportunity",
   "metadata": {},
   "outputs": [],
   "source": [
    "spark = SparkSession.builder.appName('Optimize I').getOrCreate()\n",
    "\n",
    "base_path = os.getcwd()\n",
    "\n",
    "project_path = ('/').join(base_path.split('/')[0:-3]) \n",
    "\n",
    "answers_input_path = os.path.join(project_path, 'data/answers')\n",
    "\n",
    "# questions_input_path = os.path.join(project_path, 'output/questions-transformed')\n",
    "questions_input_path = os.path.join(project_path, 'data/questions')\n",
    "\n",
    "answersDF = spark.read.option('path', answers_input_path).load()\n",
    "\n",
    "questionsDF = spark.read.option('path', questions_input_path).load()\n"
   ]
  },
  {
   "cell_type": "code",
   "execution_count": null,
   "id": "overhead-revision",
   "metadata": {},
   "outputs": [],
   "source": [
    "# %%timeit\n",
    "\n",
    "spark.conf.set(\"spark.sql.adaptive.enabled\", \"True\")\n",
    "\n",
    "'''\n",
    "Answers aggregation\n",
    "\n",
    "Here we : get number of answers per question per month\n",
    "'''\n",
    "\n",
    "answersDF.repartition(7)\n",
    "questionsDF.repartition(7)\n",
    "\n",
    "answers_month = answersDF.withColumn('month', month('creation_date')).groupBy('question_id', 'month').agg(count('*').alias('cnt')).cache()\n",
    "\n",
    "resultDF = questionsDF.join(answers_month, 'question_id').select('question_id', 'creation_date', 'title', 'month', 'cnt')\n",
    "\n",
    "resultDF.orderBy('question_id', 'month').show()\n",
    "\n",
    "resultDF.explain()"
   ]
  },
  {
   "cell_type": "code",
   "execution_count": null,
   "id": "resistant-catch",
   "metadata": {},
   "outputs": [],
   "source": []
  }
 ],
 "metadata": {
  "kernelspec": {
   "display_name": "Python 3",
   "language": "python",
   "name": "python3"
  },
  "language_info": {
   "codemirror_mode": {
    "name": "ipython",
    "version": 3
   },
   "file_extension": ".py",
   "mimetype": "text/x-python",
   "name": "python",
   "nbconvert_exporter": "python",
   "pygments_lexer": "ipython3",
   "version": "3.8.8"
  }
 },
 "nbformat": 4,
 "nbformat_minor": 5
}
