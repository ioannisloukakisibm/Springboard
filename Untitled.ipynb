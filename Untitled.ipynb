{
 "cells": [
  {
   "cell_type": "code",
   "execution_count": 1,
   "id": "familiar-premium",
   "metadata": {},
   "outputs": [
    {
     "name": "stdout",
     "output_type": "stream",
     "text": [
      "<Response [200]>\n"
     ]
    }
   ],
   "source": [
    "import requests\n",
    "import json\n",
    "import docx\n",
    "\n",
    "\n",
    "url = 'https://app.ticketmaster.com/discovery/v2/events.json?postalCode=27701&countryCode=US&apikey=Lqseo1SMwgdKqLEKOPTLlfJaLSCMtd0S'\n",
    "response = requests.get(url)\n",
    "print(response)\n",
    "data=response.text\n",
    "\n",
    "parsed = json.loads(data)\n"
   ]
  },
  {
   "cell_type": "code",
   "execution_count": 2,
   "id": "coordinated-wireless",
   "metadata": {},
   "outputs": [],
   "source": [
    "\n",
    "# print(json.dumps(parsed, indent=4))\n",
    "check=json.dumps(parsed, indent=4) \n",
    "\n",
    "\n"
   ]
  },
  {
   "cell_type": "code",
   "execution_count": 48,
   "id": "written-criticism",
   "metadata": {},
   "outputs": [
    {
     "name": "stdout",
     "output_type": "stream",
     "text": [
      "{'start': {'localDate': '2021-09-30', 'localTime': '19:00:00', 'dateTime': '2021-09-30T23:00:00Z', 'dateTBD': False, 'dateTBA': False, 'timeTBA': False, 'noSpecificTime': False}, 'initialStartDate': {'localDate': '2021-02-11', 'localTime': '19:00:00', 'dateTime': '2021-02-12T00:00:00Z'}, 'timezone': 'America/New_York', 'status': {'code': 'rescheduled'}, 'spanMultipleDays': False}\n"
     ]
    }
   ],
   "source": [
    "# slice = parsed[0]\n",
    "# print(slice)\n",
    "print(parsed.get('_embedded').get('events')[0].get('dates'))\n",
    "#       .get('presales'))\n",
    "# print(parsed)"
   ]
  },
  {
   "cell_type": "code",
   "execution_count": 46,
   "id": "coordinate-bobby",
   "metadata": {},
   "outputs": [
    {
     "name": "stdout",
     "output_type": "stream",
     "text": [
      "Name: Bert Kreischer - The Berty Boy World Tour\n",
      "Start of public sales: 2019-11-08T15:00:00Z\n",
      "sale start to be determined? False\n",
      "sale start to be announced? False\n",
      "End of public sales: 2021-09-30T23:00:00Z\n",
      "presale type: Artist Presale\n",
      "presale start date: 2019-11-06T15:00:00Z\n",
      "presale end date: 2019-11-08T03:00:00Z\n",
      "presale type: Promoter Presale\n",
      "presale start date: 2019-11-07T15:00:00Z\n",
      "presale end date: 2019-11-08T03:00:00Z\n",
      "presale type: Friends of DPAC Presale\n",
      "presale start date: 2019-11-07T17:00:00Z\n",
      "presale end date: 2019-11-08T03:00:00Z\n",
      "presale type: Ticketmaster Presale\n",
      "presale start date: 2019-11-07T17:00:00Z\n",
      "presale end date: 2019-11-08T03:00:00Z\n",
      "presale type: Official Platinum\n",
      "presale start date: 2019-11-08T15:00:00Z\n",
      "presale end date: 2021-09-30T23:00:00Z\n"
     ]
    }
   ],
   "source": [
    "# Name of the first event\n",
    "name = parsed.get('_embedded').get('events')[0].get('name')\n",
    "print('Name:',name)\n",
    "\n",
    "# Start of public sales\n",
    "print('Start of public sales:', parsed.get('_embedded').get('events')[0].get('sales').get('public').get('startDateTime'))\n",
    "\n",
    "# Is the start to be determined?\n",
    "print('sale start to be determined?', parsed.get('_embedded').get('events')[0].get('sales').get('public').get('startTBD'))\n",
    "\n",
    "# Is the start to be anounced?\n",
    "print('sale start to be announced?', parsed.get('_embedded').get('events')[0].get('sales').get('public').get('startTBA'))\n",
    "\n",
    "# End of public sales\n",
    "print('End of public sales:', parsed.get('_embedded').get('events')[0].get('sales').get('public').get('endDateTime'))\n",
    "\n",
    "for presale in parsed.get('_embedded').get('events')[0].get('sales').get('presales'):\n",
    "    presale_type = presale.get('name')\n",
    "    startdate = presale.get('startDateTime')\n",
    "    enddate = presale.get('endDateTime')\n",
    "    print('presale type:',presale_type)\n",
    "    print('presale start date:',startdate)\n",
    "    print('presale end date:',enddate)\n",
    "\n",
    "\n",
    "    "
   ]
  },
  {
   "cell_type": "code",
   "execution_count": null,
   "id": "encouraging-modem",
   "metadata": {},
   "outputs": [],
   "source": []
  }
 ],
 "metadata": {
  "kernelspec": {
   "display_name": "Python 3",
   "language": "python",
   "name": "python3"
  },
  "language_info": {
   "codemirror_mode": {
    "name": "ipython",
    "version": 3
   },
   "file_extension": ".py",
   "mimetype": "text/x-python",
   "name": "python",
   "nbconvert_exporter": "python",
   "pygments_lexer": "ipython3",
   "version": "3.9.1"
  }
 },
 "nbformat": 4,
 "nbformat_minor": 5
}
