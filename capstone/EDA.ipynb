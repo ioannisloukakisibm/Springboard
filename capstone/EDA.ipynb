{
 "cells": [
  {
   "cell_type": "code",
   "execution_count": 12,
   "id": "informative-consistency",
   "metadata": {},
   "outputs": [],
   "source": [
    "import pandas as pd\n",
    "import numpy as np\n",
    "import openpyxl\n",
    "\n",
    "from IPython.core.interactiveshell import InteractiveShell\n",
    "InteractiveShell.ast_node_interactivity = \"all\"\n",
    "\n",
    "df = pd.read_csv('final_ticketmaster_dataset.csv')"
   ]
  },
  {
   "cell_type": "markdown",
   "id": "extended-island",
   "metadata": {},
   "source": [
    "## GENERAL\n",
    "\n",
    "- How many events do we have?\n",
    "- are event ID's unique?"
   ]
  },
  {
   "cell_type": "code",
   "execution_count": 6,
   "id": "excess-incentive",
   "metadata": {},
   "outputs": [
    {
     "name": "stdout",
     "output_type": "stream",
     "text": [
      "The data set has 169 rows but only 136 unique event ids\n"
     ]
    }
   ],
   "source": [
    "number_of_unique_event_ids = df['event id'].nunique()\n",
    "number_of_rows = df.shape[0]\n",
    "number_of_unique_events = df['event name'].nunique()\n",
    "\n",
    "if number_of_unique_event_ids == number_of_rows:\n",
    "    print('The data set has one row per event id')\n",
    "else:\n",
    "    print('The data set has', number_of_rows, 'rows but only',  number_of_unique_event_ids, 'unique event ids')\n",
    "\n",
    "pd.set_option('display.max_rows',120)"
   ]
  },
  {
   "cell_type": "markdown",
   "id": "catholic-vertex",
   "metadata": {},
   "source": [
    "## DUPLICATION\n",
    "\n",
    "- Events with the same ID keep on reappearing with different information\n",
    "- What changes?"
   ]
  },
  {
   "cell_type": "code",
   "execution_count": 14,
   "id": "sporting-variance",
   "metadata": {},
   "outputs": [],
   "source": [
    "# Create a dedupped data set with a row count of the duplicate rows\n",
    "check_duplicates = df[['event id','info']].groupby(['event id'], as_index = False).count().rename({'info':'duplication count'}, axis = 1)\n",
    "\n",
    "# Put the duplicate event ids in a list\n",
    "list_of_duplicate_event_ids = list(check_duplicates[check_duplicates['duplication count']>1]['event id'])\n",
    "\n",
    "# Add the duplication counter and export the duplicate rows for review\n",
    "duplicate_rows = df[df['event id'].isin(list_of_duplicate_event_ids)]\n",
    "\n",
    "duplicate_rows_with_dup_counter = pd.merge(\n",
    "    duplicate_rows, check_duplicates\n",
    "    ,how = 'inner'\n",
    "    ,left_on = 'event id'\n",
    "    ,right_on = 'event id'\n",
    "    )   \n",
    "\n",
    "duplicate_rows_with_dup_counter.to_excel('~/downloads/check ticketmaster duplication.xlsx')"
   ]
  },
  {
   "cell_type": "code",
   "execution_count": null,
   "id": "color-stationery",
   "metadata": {},
   "outputs": [],
   "source": []
  }
 ],
 "metadata": {
  "kernelspec": {
   "display_name": "Python 3",
   "language": "python",
   "name": "python3"
  },
  "language_info": {
   "codemirror_mode": {
    "name": "ipython",
    "version": 3
   },
   "file_extension": ".py",
   "mimetype": "text/x-python",
   "name": "python",
   "nbconvert_exporter": "python",
   "pygments_lexer": "ipython3",
   "version": "3.8.7"
  }
 },
 "nbformat": 4,
 "nbformat_minor": 5
}
