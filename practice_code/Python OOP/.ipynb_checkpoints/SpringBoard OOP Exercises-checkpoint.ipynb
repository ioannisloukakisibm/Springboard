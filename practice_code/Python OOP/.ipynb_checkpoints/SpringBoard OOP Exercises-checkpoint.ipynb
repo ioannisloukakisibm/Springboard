{
 "cells": [
  {
   "cell_type": "code",
   "execution_count": 15,
   "metadata": {},
   "outputs": [],
   "source": [
    "class SerialGenerator:\n",
    "    def __init__(self, start):\n",
    "        self.start = start\n",
    "        self.counter = self.start\n",
    "        \n",
    "    def generate(self):\n",
    "        self.counter += 1\n",
    "        return self.counter\n",
    "        \n",
    "    def reset(self):\n",
    "        self.counter = self.start\n",
    "        return self.counter\n",
    "        "
   ]
  },
  {
   "cell_type": "code",
   "execution_count": 16,
   "metadata": {},
   "outputs": [],
   "source": [
    "s = SerialGenerator(start = 100)"
   ]
  },
  {
   "cell_type": "code",
   "execution_count": 21,
   "metadata": {},
   "outputs": [
    {
     "data": {
      "text/plain": [
       "101"
      ]
     },
     "execution_count": 21,
     "metadata": {},
     "output_type": "execute_result"
    }
   ],
   "source": [
    "s.generate()"
   ]
  },
  {
   "cell_type": "code",
   "execution_count": 20,
   "metadata": {},
   "outputs": [
    {
     "data": {
      "text/plain": [
       "100"
      ]
     },
     "execution_count": 20,
     "metadata": {},
     "output_type": "execute_result"
    }
   ],
   "source": [
    "s.reset()"
   ]
  },
  {
   "cell_type": "code",
   "execution_count": 34,
   "metadata": {},
   "outputs": [],
   "source": [
    "class WordFinder:\n",
    "    def read_file(self, path):\n",
    "        list_of_words = []\n",
    "        file1 = open(path, 'r')\n",
    "        for line in file1:\n",
    "            word = line.strip()\n",
    "            if word == '':\n",
    "                continue\n",
    "            else:\n",
    "                list_of_words.append(word)\n",
    "        return list_of_words\n",
    "\n",
    "    def __init__(self, path):\n",
    "        self.path = path\n",
    "        self.list_of_words = read_file(self.path)\n",
    "        \n",
    "        \n",
    "        \n",
    "        "
   ]
  },
  {
   "cell_type": "code",
   "execution_count": 51,
   "metadata": {},
   "outputs": [],
   "source": [
    "class WordFinder:\n",
    "    def __init__(self, path):\n",
    "        self.path = path\n",
    "\n",
    "        list_of_words = []\n",
    "        file1 = open(path, 'r')\n",
    "        for line in file1:\n",
    "            word = line.strip()\n",
    "            if word == '':\n",
    "                continue\n",
    "            else:\n",
    "                list_of_words.append(word)\n",
    "        self.list_of_words = list_of_words.copy()\n",
    "        print(len(self.list_of_words), 'words read')\n",
    "    \n",
    "    def random(self):\n",
    "        import random\n",
    "        return self.list_of_words[random.randint(0,len(self.list_of_words))]\n",
    "        \n",
    "        \n",
    "        \n",
    "        "
   ]
  },
  {
   "cell_type": "code",
   "execution_count": 52,
   "metadata": {},
   "outputs": [
    {
     "name": "stdout",
     "output_type": "stream",
     "text": [
      "235886 words read\n"
     ]
    }
   ],
   "source": [
    "wf = WordFinder('words.txt')\n"
   ]
  },
  {
   "cell_type": "code",
   "execution_count": 57,
   "metadata": {},
   "outputs": [
    {
     "data": {
      "text/plain": [
       "'palinode'"
      ]
     },
     "execution_count": 57,
     "metadata": {},
     "output_type": "execute_result"
    }
   ],
   "source": [
    "wf.random()"
   ]
  },
  {
   "cell_type": "code",
   "execution_count": 58,
   "metadata": {},
   "outputs": [
    {
     "data": {
      "text/plain": [
       "['__class__',\n",
       " '__delattr__',\n",
       " '__dict__',\n",
       " '__dir__',\n",
       " '__doc__',\n",
       " '__eq__',\n",
       " '__format__',\n",
       " '__ge__',\n",
       " '__getattribute__',\n",
       " '__gt__',\n",
       " '__hash__',\n",
       " '__init__',\n",
       " '__init_subclass__',\n",
       " '__le__',\n",
       " '__lt__',\n",
       " '__module__',\n",
       " '__ne__',\n",
       " '__new__',\n",
       " '__reduce__',\n",
       " '__reduce_ex__',\n",
       " '__repr__',\n",
       " '__setattr__',\n",
       " '__sizeof__',\n",
       " '__str__',\n",
       " '__subclasshook__',\n",
       " '__weakref__',\n",
       " 'random']"
      ]
     },
     "execution_count": 58,
     "metadata": {},
     "output_type": "execute_result"
    }
   ],
   "source": [
    "class SpecialWordFinder(WordFinder):\n",
    "    def __init__(self, path):\n",
    "        self.path = path\n",
    "\n",
    "        list_of_words = []\n",
    "        file1 = open(path, 'r')\n",
    "        for line in file1:\n",
    "            word = line.strip()\n",
    "            if word == '':\n",
    "                continue\n",
    "            else:\n",
    "                list_of_words.append(word)\n",
    "        self.list_of_words = list_of_words.copy()\n",
    "        print(len(self.list_of_words), 'words read')\n",
    "\n",
    "dir(SpecialWordFinder)"
   ]
  },
  {
   "cell_type": "code",
   "execution_count": null,
   "metadata": {},
   "outputs": [],
   "source": []
  }
 ],
 "metadata": {
  "kernelspec": {
   "display_name": "Python 3",
   "language": "python",
   "name": "python3"
  },
  "language_info": {
   "codemirror_mode": {
    "name": "ipython",
    "version": 3
   },
   "file_extension": ".py",
   "mimetype": "text/x-python",
   "name": "python",
   "nbconvert_exporter": "python",
   "pygments_lexer": "ipython3",
   "version": "3.7.4"
  }
 },
 "nbformat": 4,
 "nbformat_minor": 2
}
